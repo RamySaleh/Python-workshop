{
 "cells": [
  {
   "cell_type": "code",
   "execution_count": 6,
   "metadata": {},
   "outputs": [
    {
     "name": "stdout",
     "output_type": "stream",
     "text": [
      "# assign variable\n",
      "5\n",
      "value\n",
      "\n",
      "# sum numbers\n",
      "11\n"
     ]
    }
   ],
   "source": [
    "# source : https://www.w3schools.com/python/default.asp\n",
    "print('# assign variable')\n",
    "a = 5\n",
    "print(a)\n",
    "a = 'value'\n",
    "print(a)"
   ]
  },
  {
   "cell_type": "code",
   "execution_count": 7,
   "metadata": {},
   "outputs": [
    {
     "name": "stdout",
     "output_type": "stream",
     "text": [
      "# sum numbers\n",
      "11\n"
     ]
    }
   ],
   "source": [
    "print('# sum numbers')\n",
    "a = 5\n",
    "b = 6\n",
    "print(a + b)"
   ]
  },
  {
   "cell_type": "code",
   "execution_count": 8,
   "metadata": {},
   "outputs": [
    {
     "name": "stdout",
     "output_type": "stream",
     "text": [
      "# concat strings\n",
      "Hello : World\n"
     ]
    }
   ],
   "source": [
    "print('# concat strings')\n",
    "a = \"Hello : \"\n",
    "b = \"World\"\n",
    "print(a + b)"
   ]
  },
  {
   "cell_type": "code",
   "execution_count": 9,
   "metadata": {},
   "outputs": [
    {
     "name": "stdout",
     "output_type": "stream",
     "text": [
      "# string format\n",
      "Hello : World\n"
     ]
    }
   ],
   "source": [
    "print('# string format')\n",
    "a = \"Hello\"\n",
    "b = \"World\"\n",
    "print(f'{a} : {b}')"
   ]
  },
  {
   "cell_type": "code",
   "execution_count": 10,
   "metadata": {},
   "outputs": [
    {
     "name": "stdout",
     "output_type": "stream",
     "text": [
      "# string format\n",
      "Hello : World\n"
     ]
    }
   ],
   "source": [
    "print('# string format')\n",
    "a = \"Hello\"\n",
    "b = \"World\"\n",
    "print(f'{a} : {b}')"
   ]
  },
  {
   "cell_type": "code",
   "execution_count": 20,
   "metadata": {},
   "outputs": [
    {
     "name": "stdout",
     "output_type": "stream",
     "text": [
      "# array\n",
      "[1, 2, 3, 4]\n"
     ]
    }
   ],
   "source": [
    "print('# array')\n",
    "array = [1, 2, 3]\n",
    "print(array)"
   ]
  },
  {
   "cell_type": "code",
   "execution_count": 67,
   "metadata": {},
   "outputs": [
    {
     "name": "stdout",
     "output_type": "stream",
     "text": [
      "# loop on array\n",
      "1\n",
      "2\n",
      "3\n",
      "array length = 3\n",
      "\n",
      "# loop by index\n",
      "1\n",
      "2\n",
      "3\n"
     ]
    }
   ],
   "source": [
    "print('# loop on array')\n",
    "array = [1, 2, 3]\n",
    "for item in array:\n",
    "    print(item)\n",
    "    \n",
    "# use break to stop the loop\n",
    "    \n",
    "array_len = len(array)\n",
    "print('array length = ' + str(array_len))\n",
    "\n",
    "print()\n",
    "print('# loop by index')\n",
    "for i in range(len(array)):\n",
    "    print(array[i])"
   ]
  },
  {
   "cell_type": "code",
   "execution_count": 54,
   "metadata": {},
   "outputs": [
    {
     "name": "stdout",
     "output_type": "stream",
     "text": [
      "# subset of array\n",
      "2\n",
      "3\n",
      "\n",
      "# subset of array from start to index\n",
      "1\n",
      "2\n",
      "3\n",
      "last_item = 4\n"
     ]
    }
   ],
   "source": [
    "print('# subset of array')\n",
    "array = [1, 2, 3 , 4]\n",
    "sub = array[1:3]\n",
    "\n",
    "for item in sub:\n",
    "    print(item)\n",
    "\n",
    "print()\n",
    "print('# subset of array from start to index')\n",
    "sub = array[:3]\n",
    "for item in sub:\n",
    "    print(item)\n",
    "\n",
    "last_item = array[-1]\n",
    "print(\"last_item = \" + str(last_item))"
   ]
  },
  {
   "cell_type": "code",
   "execution_count": 14,
   "metadata": {},
   "outputs": [
    {
     "name": "stdout",
     "output_type": "stream",
     "text": [
      "# dictionary\n",
      "{'one': 1, 'key': 'value'}\n"
     ]
    }
   ],
   "source": [
    "print('# dictionary')\n",
    "dic = {'one' : 1, 'key' : 'value'}\n",
    "print(dic)"
   ]
  },
  {
   "cell_type": "code",
   "execution_count": null,
   "metadata": {},
   "outputs": [],
   "source": [
    "print('# dictionary')\n",
    "dic = {'one' : 1, 'key' : 'value'}\n",
    "print(dic)"
   ]
  },
  {
   "cell_type": "code",
   "execution_count": 62,
   "metadata": {},
   "outputs": [
    {
     "name": "stdout",
     "output_type": "stream",
     "text": [
      "# loop on dictionary\n",
      "key = one : value = 1\n",
      "key = key : value = value\n",
      "\n",
      "key = one : value = 1\n",
      "key = key : value = value\n",
      "\n",
      "# dictionary keys\n",
      "dict_keys(['one', 'key'])\n",
      "\n",
      "# dictionary values\n",
      "dict_values([1, 'value'])\n",
      "\n",
      "# check if key in dictionary\n",
      "key 'one' found in dictionary\n"
     ]
    }
   ],
   "source": [
    "print('# loop on dictionary')\n",
    "dic = {'one' : 1, 'key' : 'value'}\n",
    "for item in dic:\n",
    "    print(f'key = {item} : value = {dic[item]}')\n",
    "    \n",
    "print()\n",
    "for x, y in dic.items():\n",
    "  print(f'key = {x} : value = {y}')\n",
    "    \n",
    "print()\n",
    "print('# dictionary keys')\n",
    "print(dic.keys())\n",
    "\n",
    "print()\n",
    "print('# dictionary values')\n",
    "print(dic.values())\n",
    "\n",
    "print()\n",
    "print('# check if key in dictionary')\n",
    "if 'one' in dic:\n",
    "    print(f'key \\'one\\' found in dictionary')"
   ]
  },
  {
   "cell_type": "code",
   "execution_count": 52,
   "metadata": {},
   "outputs": [
    {
     "name": "stdout",
     "output_type": "stream",
     "text": [
      "# loop with while\n",
      "1\n",
      "2\n",
      "3\n"
     ]
    }
   ],
   "source": [
    "print('# loop with while')\n",
    "array = [1, 2, 3]\n",
    "idx = 0\n",
    "\n",
    "while idx < len(array):\n",
    "    print(array[idx])\n",
    "    idx += 1"
   ]
  },
  {
   "cell_type": "code",
   "execution_count": 65,
   "metadata": {},
   "outputs": [
    {
     "name": "stdout",
     "output_type": "stream",
     "text": [
      "# conditions\n",
      "a > 7\n",
      "True\n"
     ]
    }
   ],
   "source": [
    "print('# conditions')\n",
    "a = 10\n",
    "\n",
    "if a < 3:\n",
    "    print('a > 3')\n",
    "elif a > 3 and a < 7:\n",
    "    print('3 < a < 7')\n",
    "elif a == 0:\n",
    "    pass\n",
    "else:\n",
    "    print('a > 7')\n",
    "    \n",
    "b = 'True' if a > 5 else 'False'\n",
    "print(b)"
   ]
  },
  {
   "cell_type": "code",
   "execution_count": 51,
   "metadata": {},
   "outputs": [
    {
     "name": "stdout",
     "output_type": "stream",
     "text": [
      "# check if variable has value or True\n",
      "False\n"
     ]
    }
   ],
   "source": [
    "print('# check if variable has value or True')\n",
    "b = None\n",
    "if b:\n",
    "    print('True')\n",
    "else:\n",
    "    print('False')"
   ]
  },
  {
   "cell_type": "code",
   "execution_count": 72,
   "metadata": {},
   "outputs": [
    {
     "name": "stdout",
     "output_type": "stream",
     "text": [
      "# functions\n",
      "8\n",
      "7\n"
     ]
    }
   ],
   "source": [
    "print('# functions')\n",
    "a = 5\n",
    "b = 3\n",
    "\n",
    "def add(x, y):\n",
    "    return x + y;\n",
    "\n",
    "c = add(a, b)\n",
    "print(c)\n",
    "\n",
    "def add_def(x, y = 2):\n",
    "    return x + y;\n",
    "\n",
    "c = add_def(a)\n",
    "print(c)"
   ]
  },
  {
   "cell_type": "code",
   "execution_count": 74,
   "metadata": {},
   "outputs": [
    {
     "name": "stdout",
     "output_type": "stream",
     "text": [
      "# function with multi unkown inputs\n",
      "1\n",
      "2\n",
      "3\n"
     ]
    }
   ],
   "source": [
    "print('# function with multi unknown inputs')\n",
    "def print_numbers(*numbers):\n",
    "    for number in numbers:\n",
    "        print(number)\n",
    "        \n",
    "print_numbers(1 , 2, 3)"
   ]
  },
  {
   "cell_type": "code",
   "execution_count": 76,
   "metadata": {},
   "outputs": [
    {
     "name": "stdout",
     "output_type": "stream",
     "text": [
      "# lambda function\n",
      "3\n"
     ]
    }
   ],
   "source": [
    "print('# lambda function')\n",
    "add = lambda a,b : a + b\n",
    "\n",
    "c = add(1 , 2)\n",
    "print(c)"
   ]
  },
  {
   "cell_type": "code",
   "execution_count": null,
   "metadata": {},
   "outputs": [],
   "source": []
  }
 ],
 "metadata": {
  "kernelspec": {
   "display_name": "Python 3",
   "language": "python",
   "name": "python3"
  },
  "language_info": {
   "codemirror_mode": {
    "name": "ipython",
    "version": 3
   },
   "file_extension": ".py",
   "mimetype": "text/x-python",
   "name": "python",
   "nbconvert_exporter": "python",
   "pygments_lexer": "ipython3",
   "version": "3.7.4"
  }
 },
 "nbformat": 4,
 "nbformat_minor": 2
}
